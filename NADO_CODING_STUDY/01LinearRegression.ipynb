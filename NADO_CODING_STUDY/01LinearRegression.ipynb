{
 "cells": [
  {
   "cell_type": "markdown",
   "source": [
    "#sklearn study"
   ],
   "metadata": {
    "collapsed": false
   }
  },
  {
   "cell_type": "code",
   "execution_count": 1,
   "outputs": [
    {
     "data": {
      "text/plain": "'0.24.1'"
     },
     "execution_count": 1,
     "metadata": {},
     "output_type": "execute_result"
    }
   ],
   "source": [
    "import sklearn\n",
    "sklearn.__version__"
   ],
   "metadata": {
    "collapsed": false
   }
  },
  {
   "cell_type": "markdown",
   "source": [
    "#01.Linear Regression\n",
    "###공부 시간에 따른 시험 점수"
   ],
   "metadata": {
    "collapsed": false
   }
  },
  {
   "cell_type": "code",
   "execution_count": 3,
   "outputs": [],
   "source": [
    "import matplotlib.pyplot as plt\n",
    "import pandas as pd"
   ],
   "metadata": {
    "collapsed": false
   }
  },
  {
   "cell_type": "code",
   "execution_count": 4,
   "outputs": [],
   "source": [
    "dataset = pd.read_csv('Datasets/LinearRegressionData.csv')"
   ],
   "metadata": {
    "collapsed": false
   }
  },
  {
   "cell_type": "code",
   "execution_count": 5,
   "outputs": [
    {
     "data": {
      "text/plain": "   hour  score\n0   0.5     10\n1   1.2      8\n2   1.8     14\n3   2.4     26\n4   2.6     22",
      "text/html": "<div>\n<style scoped>\n    .dataframe tbody tr th:only-of-type {\n        vertical-align: middle;\n    }\n\n    .dataframe tbody tr th {\n        vertical-align: top;\n    }\n\n    .dataframe thead th {\n        text-align: right;\n    }\n</style>\n<table border=\"1\" class=\"dataframe\">\n  <thead>\n    <tr style=\"text-align: right;\">\n      <th></th>\n      <th>hour</th>\n      <th>score</th>\n    </tr>\n  </thead>\n  <tbody>\n    <tr>\n      <th>0</th>\n      <td>0.5</td>\n      <td>10</td>\n    </tr>\n    <tr>\n      <th>1</th>\n      <td>1.2</td>\n      <td>8</td>\n    </tr>\n    <tr>\n      <th>2</th>\n      <td>1.8</td>\n      <td>14</td>\n    </tr>\n    <tr>\n      <th>3</th>\n      <td>2.4</td>\n      <td>26</td>\n    </tr>\n    <tr>\n      <th>4</th>\n      <td>2.6</td>\n      <td>22</td>\n    </tr>\n  </tbody>\n</table>\n</div>"
     },
     "execution_count": 5,
     "metadata": {},
     "output_type": "execute_result"
    }
   ],
   "source": [
    "dataset.head()"
   ],
   "metadata": {
    "collapsed": false
   }
  },
  {
   "cell_type": "code",
   "execution_count": 6,
   "outputs": [],
   "source": [
    "x = dataset.iloc[:, :-1].values # 처음부터 마지막 컬럼 직전까지의 데이터(독립변수)\n",
    "y = dataset.iloc[:, -1]"
   ],
   "metadata": {
    "collapsed": false
   }
  },
  {
   "cell_type": "code",
   "execution_count": 7,
   "outputs": [
    {
     "data": {
      "text/plain": "(array([[ 0.5],\n        [ 1.2],\n        [ 1.8],\n        [ 2.4],\n        [ 2.6],\n        [ 3.2],\n        [ 3.9],\n        [ 4.4],\n        [ 4.5],\n        [ 5. ],\n        [ 5.3],\n        [ 5.8],\n        [ 6. ],\n        [ 6.1],\n        [ 6.2],\n        [ 6.9],\n        [ 7.2],\n        [ 8.4],\n        [ 8.6],\n        [10. ]]),\n 0      10\n 1       8\n 2      14\n 3      26\n 4      22\n 5      30\n 6      42\n 7      48\n 8      38\n 9      58\n 10     60\n 11     72\n 12     62\n 13     68\n 14     72\n 15     58\n 16     76\n 17     86\n 18     90\n 19    100\n Name: score, dtype: int64)"
     },
     "execution_count": 7,
     "metadata": {},
     "output_type": "execute_result"
    }
   ],
   "source": [
    "x,y"
   ],
   "metadata": {
    "collapsed": false
   }
  },
  {
   "cell_type": "code",
   "execution_count": 8,
   "outputs": [
    {
     "data": {
      "text/plain": "LinearRegression()"
     },
     "execution_count": 8,
     "metadata": {},
     "output_type": "execute_result"
    }
   ],
   "source": [
    "from sklearn.linear_model import LinearRegression\n",
    "reg = LinearRegression()\n",
    "reg.fit(x,y)"
   ],
   "metadata": {
    "collapsed": false
   }
  },
  {
   "cell_type": "code",
   "execution_count": 9,
   "outputs": [
    {
     "data": {
      "text/plain": "array([  5.00336377,  12.31395163,  18.58016979,  24.84638795,\n        26.93512734,  33.20134551,  40.51193337,  45.73378184,\n        46.77815153,  52.        ,  55.13310908,  60.35495755,\n        62.44369694,  63.48806663,  64.53243633,  71.84302419,\n        74.97613327,  87.5085696 ,  89.59730899, 104.2184847 ])"
     },
     "execution_count": 9,
     "metadata": {},
     "output_type": "execute_result"
    }
   ],
   "source": [
    "y_pred = reg.predict(x)\n",
    "y_pred"
   ],
   "metadata": {
    "collapsed": false
   }
  },
  {
   "cell_type": "code",
   "execution_count": 11,
   "outputs": [
    {
     "data": {
      "text/plain": "<Figure size 432x288 with 1 Axes>",
      "image/png": "[encoded data removed]"
     },
     "metadata": {
      "needs_background": "light"
     },
     "output_type": "display_data"
    }
   ],
   "source": [
    "plt.scatter(x,y, color = \"blue\")\n",
    "plt.plot(x, y_pred, color='green')\n",
    "plt.title('Score by hours')\n",
    "plt.xlabel(\"hours\")\n",
    "plt.ylabel(\"score\")\n",
    "plt.show()"
   ],
   "metadata": {
    "collapsed": false
   }
  },
  {
   "cell_type": "code",
   "execution_count": 13,
   "outputs": [
    {
     "name": "stdout",
     "output_type": "stream",
     "text": [
      "9시간 공부했을때 예상점수 = [93.77478776]\n"
     ]
    }
   ],
   "source": [
    "print(f\"9시간 공부했을때 예상점수 = {reg.predict([[9]])}\")"
   ],
   "metadata": {
    "collapsed": false
   }
  },
  {
   "cell_type": "code",
   "execution_count": 14,
   "outputs": [
    {
     "name": "stdout",
     "output_type": "stream",
     "text": [
      "[10.44369694] -0.218484702867201\n"
     ]
    }
   ],
   "source": [
    "m = reg.coef_\n",
    "n = reg.intercept_\n",
    "\n",
    "print(m,n)"
   ],
   "metadata": {
    "collapsed": false
   }
  },
  {
   "cell_type": "code",
   "execution_count": 15,
   "outputs": [],
   "source": [
    "# linear graph : y = 10.4436x + -0.2184"
   ],
   "metadata": {
    "collapsed": false
   }
  },
  {
   "cell_type": "code",
   "execution_count": 15,
   "outputs": [],
   "source": [],
   "metadata": {
    "collapsed": false
   }
  },
  {
   "cell_type": "code",
   "execution_count": null,
   "outputs": [],
   "source": [],
   "metadata": {
    "collapsed": false
   }
  }
 ],
 "metadata": {
  "kernelspec": {
   "display_name": "Python 3",
   "language": "python",
   "name": "python3"
  },
  "language_info": {
   "codemirror_mode": {
    "name": "ipython",
    "version": 2
   },
   "file_extension": ".py",
   "mimetype": "text/x-python",
   "name": "python",
   "nbconvert_exporter": "python",
   "pygments_lexer": "ipython2",
   "version": "2.7.6"
  }
 },
 "nbformat": 4,
 "nbformat_minor": 0
}
